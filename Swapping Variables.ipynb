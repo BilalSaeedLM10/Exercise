{
 "cells": [
  {
   "cell_type": "code",
   "execution_count": 2,
   "metadata": {},
   "outputs": [
    {
     "name": "stdout",
     "output_type": "stream",
     "text": [
      "Initially strings are\n",
      "first string\n",
      "second string\n",
      "After swapping\n",
      "second string\n",
      "second string\n"
     ]
    }
   ],
   "source": [
    "print('Initially strings are')\n",
    "print(\"first string\")\n",
    "print(\"second string\")\n",
    "v1= \"first string\"\n",
    "v2= \"second string\"\n",
    "print('After swapping')\n",
    "v1=v2\n",
    "print(v1)\n",
    "print(v2)\n"
   ]
  },
  {
   "cell_type": "code",
   "execution_count": 3,
   "metadata": {},
   "outputs": [
    {
     "name": "stdout",
     "output_type": "stream",
     "text": [
      "Initially strings are\n",
      "first string\n",
      "second string\n",
      "After swapping\n",
      "second string\n",
      "second string\n"
     ]
    }
   ],
   "source": [
    "print('Initially strings are')\n",
    "print(\"first string\")\n",
    "print(\"second string\")\n",
    "v1= \"first string\"\n",
    "v2= \"second string\"\n",
    "print('After swapping')\n",
    "v1=v2\n",
    "print(v1)\n",
    "print(v2)"
   ]
  },
  {
   "cell_type": "code",
   "execution_count": 5,
   "metadata": {},
   "outputs": [
    {
     "name": "stdout",
     "output_type": "stream",
     "text": [
      "Initially strings are\n",
      "first string\n",
      "second string\n",
      "After swapping\n",
      "first string\n",
      "second string\n"
     ]
    }
   ],
   "source": [
    "print('Initially strings are')\n",
    "print(\"first string\")\n",
    "print(\"second string\")\n",
    "v1= \"first string\"\n",
    "v2= \"second string\"\n",
    "print('After swapping')\n",
    "temp=v1\n",
    "v1=v2\n",
    "print(temp)\n",
    "print(v1)"
   ]
  },
  {
   "cell_type": "code",
   "execution_count": null,
   "metadata": {
    "collapsed": true
   },
   "outputs": [],
   "source": []
  }
 ],
 "metadata": {
  "kernelspec": {
   "display_name": "Python 3",
   "language": "python",
   "name": "python3"
  },
  "language_info": {
   "codemirror_mode": {
    "name": "ipython",
    "version": 3
   },
   "file_extension": ".py",
   "mimetype": "text/x-python",
   "name": "python",
   "nbconvert_exporter": "python",
   "pygments_lexer": "ipython3",
   "version": "3.6.3"
  }
 },
 "nbformat": 4,
 "nbformat_minor": 2
}
