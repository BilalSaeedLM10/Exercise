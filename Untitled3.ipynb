{
 "cells": [
  {
   "cell_type": "code",
   "execution_count": 9,
   "metadata": {},
   "outputs": [
    {
     "name": "stdout",
     "output_type": "stream",
     "text": [
      "{'Hello': 'frens', 'Fuck': 'Sorry!', 'Hey': 'frens'}\n"
     ]
    }
   ],
   "source": [
    "practice= {\n",
    "    \"Hello\": \"Buddy\",\n",
    "    \"Fuck\": \"Sorry!\",\n",
    "    \"Hey\": \"frens\"\n",
    "\n",
    "}\n",
    "practice [\"Hello\"] = \"frens\"\n",
    "\n",
    "print (practice)"
   ]
  },
  {
   "cell_type": "code",
   "execution_count": 5,
   "metadata": {},
   "outputs": [
    {
     "name": "stdout",
     "output_type": "stream",
     "text": [
      "{'Hello': 'Buddy', 'Fuck': 'frens', 'Hey': 'Bhonsdike', 'buddy': 'frens', 'LOL': 'frens'}\n"
     ]
    }
   ],
   "source": []
  },
  {
   "cell_type": "code",
   "execution_count": null,
   "metadata": {
    "collapsed": true
   },
   "outputs": [],
   "source": []
  }
 ],
 "metadata": {
  "kernelspec": {
   "display_name": "Python 3",
   "language": "python",
   "name": "python3"
  },
  "language_info": {
   "codemirror_mode": {
    "name": "ipython",
    "version": 3
   },
   "file_extension": ".py",
   "mimetype": "text/x-python",
   "name": "python",
   "nbconvert_exporter": "python",
   "pygments_lexer": "ipython3",
   "version": "3.6.3"
  }
 },
 "nbformat": 4,
 "nbformat_minor": 2
}
