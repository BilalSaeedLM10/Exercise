{
 "cells": [
  {
   "cell_type": "code",
   "execution_count": 1,
   "metadata": {},
   "outputs": [
    {
     "name": "stdout",
     "output_type": "stream",
     "text": [
      "Chal chal ullu ka pattha\n"
     ]
    }
   ],
   "source": [
    "def func():\n",
    "    print('Hey there')\n",
    "    print('Im learning Python')\n",
    "print('Chal chal ullu ka pattha')"
   ]
  },
  {
   "cell_type": "code",
   "execution_count": 2,
   "metadata": {},
   "outputs": [
    {
     "name": "stdout",
     "output_type": "stream",
     "text": [
      "Hey there\n",
      "Im learning Python\n"
     ]
    }
   ],
   "source": [
    "func()"
   ]
  },
  {
   "cell_type": "code",
   "execution_count": 4,
   "metadata": {},
   "outputs": [],
   "source": [
    "def fun(x):\n",
    "    return 5*x\n"
   ]
  },
  {
   "cell_type": "code",
   "execution_count": 6,
   "metadata": {},
   "outputs": [
    {
     "data": {
      "text/plain": [
       "10"
      ]
     },
     "execution_count": 6,
     "metadata": {},
     "output_type": "execute_result"
    }
   ],
   "source": [
    "fun(2)"
   ]
  },
  {
   "cell_type": "code",
   "execution_count": 7,
   "metadata": {},
   "outputs": [
    {
     "data": {
      "text/plain": [
       "25"
      ]
     },
     "execution_count": 7,
     "metadata": {},
     "output_type": "execute_result"
    }
   ],
   "source": [
    "fun(5)"
   ]
  },
  {
   "cell_type": "code",
   "execution_count": 8,
   "metadata": {
    "collapsed": true
   },
   "outputs": [],
   "source": [
    "a=fun(9)"
   ]
  },
  {
   "cell_type": "code",
   "execution_count": 9,
   "metadata": {},
   "outputs": [
    {
     "name": "stdout",
     "output_type": "stream",
     "text": [
      "45\n"
     ]
    }
   ],
   "source": [
    "print (a)"
   ]
  },
  {
   "cell_type": "code",
   "execution_count": 10,
   "metadata": {},
   "outputs": [
    {
     "name": "stdout",
     "output_type": "stream",
     "text": [
      "36\n"
     ]
    }
   ],
   "source": [
    "def func3(x, y, z):\n",
    "    return x*z+y+y\n",
    "a= func3(2, 9, 9)\n",
    "print(a)\n"
   ]
  },
  {
   "cell_type": "code",
   "execution_count": 11,
   "metadata": {},
   "outputs": [
    {
     "name": "stdout",
     "output_type": "stream",
     "text": [
      "2 4\n",
      "Still in function\n",
      "-2\n"
     ]
    }
   ],
   "source": [
    "def func4(x, c):\n",
    "    print(x, c)\n",
    "    print('Still in function')\n",
    "    return x-c\n",
    "a= func4(2, 4)\n",
    "print (a)"
   ]
  },
  {
   "cell_type": "code",
   "execution_count": 14,
   "metadata": {
    "collapsed": true
   },
   "outputs": [],
   "source": [
    "def func5(hello):\n",
    "    print('Hello')\n",
    "    print('From the other side')\n",
    "    print('Chu')\n",
    "    return hello*6\n"
   ]
  },
  {
   "cell_type": "code",
   "execution_count": 15,
   "metadata": {},
   "outputs": [
    {
     "name": "stdout",
     "output_type": "stream",
     "text": [
      "Hello\n",
      "From the other side\n",
      "Chu\n"
     ]
    },
    {
     "data": {
      "text/plain": [
       "24"
      ]
     },
     "execution_count": 15,
     "metadata": {},
     "output_type": "execute_result"
    }
   ],
   "source": [
    "func5(4)"
   ]
  },
  {
   "cell_type": "code",
   "execution_count": 17,
   "metadata": {
    "collapsed": true
   },
   "outputs": [],
   "source": [
    "# BMI CALCULATOR\n",
    "name1=\"Bilal\"\n",
    "height_name1=2\n",
    "weight_kg1=70\n",
    "\n",
    "name2=\"Saad\"\n",
    "height_name2=2.3\n",
    "weight_kg2=90\n",
    "\n",
    "name3=\"Zaeem\"\n",
    "height_name3=2.1\n",
    "weight_kg3=100\n"
   ]
  },
  {
   "cell_type": "code",
   "execution_count": 18,
   "metadata": {
    "collapsed": true
   },
   "outputs": [],
   "source": [
    "def bmi_calc(name, height_name, weight_kg):\n",
    "    bmi = weight_kg / (height_name ** 2)\n",
    "    print (\"BMI: \")\n",
    "    print (bmi)\n",
    "    if bmi < 25:\n",
    "        return name + \"Not overwighted!\"\n",
    "    else:\n",
    "        return name + \" is over weighted!\""
   ]
  },
  {
   "cell_type": "code",
   "execution_count": 19,
   "metadata": {},
   "outputs": [
    {
     "name": "stdout",
     "output_type": "stream",
     "text": [
      "BMI: \n",
      "17.5\n",
      "BMI: \n",
      "17.013232514177698\n",
      "BMI: \n",
      "22.675736961451246\n"
     ]
    }
   ],
   "source": [
    "result1= bmi_calc(name1, height_name1, weight_kg1)\n",
    "result2= bmi_calc(name2, height_name2, weight_kg2)\n",
    "result3= bmi_calc(name3, height_name3, weight_kg3)"
   ]
  },
  {
   "cell_type": "code",
   "execution_count": 20,
   "metadata": {},
   "outputs": [
    {
     "name": "stdout",
     "output_type": "stream",
     "text": [
      "BilalNot overwighted!\n",
      "SaadNot overwighted!\n",
      "ZaeemNot overwighted!\n"
     ]
    }
   ],
   "source": [
    "print(result1)\n",
    "print(result2)\n",
    "print(result3)"
   ]
  },
  {
   "cell_type": "code",
   "execution_count": null,
   "metadata": {
    "collapsed": true
   },
   "outputs": [],
   "source": []
  }
 ],
 "metadata": {
  "kernelspec": {
   "display_name": "Python 3",
   "language": "python",
   "name": "python3"
  },
  "language_info": {
   "codemirror_mode": {
    "name": "ipython",
    "version": 3
   },
   "file_extension": ".py",
   "mimetype": "text/x-python",
   "name": "python",
   "nbconvert_exporter": "python",
   "pygments_lexer": "ipython3",
   "version": "3.6.3"
  }
 },
 "nbformat": 4,
 "nbformat_minor": 2
}
